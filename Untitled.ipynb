{
 "cells": [
  {
   "cell_type": "code",
   "execution_count": 1,
   "id": "107f8c58",
   "metadata": {},
   "outputs": [],
   "source": [
    "import time\n",
    "from plyer import notification"
   ]
  },
  {
   "cell_type": "code",
   "execution_count": null,
   "id": "3727c95a",
   "metadata": {},
   "outputs": [],
   "source": [
    "if __name__ == \"__main__\":\n",
    "    while True:\n",
    "        notification.notify(\n",
    "            title = \"Please drink water :)\",\n",
    "            message = \"For healthy individuals, the average daily water for men is about 15.5 cups and for women about 11.5 cups.\",\n",
    "            timeout = 10\n",
    "        )\n",
    "        time.sleep(60*60)  "
   ]
  },
  {
   "cell_type": "code",
   "execution_count": null,
   "id": "1c9857bd",
   "metadata": {},
   "outputs": [],
   "source": []
  }
 ],
 "metadata": {
  "kernelspec": {
   "display_name": "Python 3 (ipykernel)",
   "language": "python",
   "name": "python3"
  },
  "language_info": {
   "codemirror_mode": {
    "name": "ipython",
    "version": 3
   },
   "file_extension": ".py",
   "mimetype": "text/x-python",
   "name": "python",
   "nbconvert_exporter": "python",
   "pygments_lexer": "ipython3",
   "version": "3.9.7"
  }
 },
 "nbformat": 4,
 "nbformat_minor": 5
}
